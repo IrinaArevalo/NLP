{
 "cells": [
  {
   "cell_type": "markdown",
   "metadata": {},
   "source": [
    "# spaCy\n",
    "\n",
    "spaCy is an NLP library, similar to NLTK https://spacy.io/"
   ]
  },
  {
   "cell_type": "code",
   "execution_count": 1,
   "metadata": {},
   "outputs": [],
   "source": [
    "text = 'The Guardian is a British daily newspaper. It was founded in 1821 as The Manchester Guardian, and changed its name in 1959. Along with its sister papers The Observer and The Guardian Weekly, the Guardian is part of the Guardian Media Group, owned by the Scott Trust. The trust was created in 1936 to \"secure the financial and editorial independence of the Guardian in perpetuity and to safeguard the journalistic freedom and liberal values of the Guardian free from commercial or political interference\".[4] The trust was converted into a limited company in 2008, with a constitution written so as to maintain for The Guardian the same protections as were built into the structure of the Scott Trust by its creators. Profits are reinvested in journalism rather than distributed to owners or shareholders.'\n",
    "\n",
    "#from wikipedia"
   ]
  },
  {
   "cell_type": "markdown",
   "metadata": {},
   "source": [
    "To analyze this text, first we need to download a suitable model from spaCy's webpage https://spacy.io/models"
   ]
  },
  {
   "cell_type": "code",
   "execution_count": 2,
   "metadata": {},
   "outputs": [],
   "source": [
    "#!python -m spacy download en_core_web_lg"
   ]
  },
  {
   "cell_type": "code",
   "execution_count": 3,
   "metadata": {},
   "outputs": [],
   "source": [
    "import spacy\n",
    "nlp = spacy.load('en_core_web_lg')\n",
    "doc = nlp(text)"
   ]
  },
  {
   "cell_type": "markdown",
   "metadata": {},
   "source": [
    "Since the text is now a spaCy object, we can use several spaCy attributes to analyze it. First we can split the text into sentences."
   ]
  },
  {
   "cell_type": "code",
   "execution_count": 7,
   "metadata": {},
   "outputs": [
    {
     "name": "stdout",
     "output_type": "stream",
     "text": [
      "The Guardian is a British daily newspaper.\n",
      "Number of characters: 42\n",
      " — — — — — — — — — — — — — — — — — -\n",
      "It was founded in 1821 as The Manchester Guardian, and changed its name in 1959.\n",
      "Number of characters: 80\n",
      " — — — — — — — — — — — — — — — — — -\n",
      "Along with its sister papers\n",
      "Number of characters: 28\n",
      " — — — — — — — — — — — — — — — — — -\n",
      "The Observer and The Guardian Weekly, the Guardian is part of the Guardian Media Group, owned by the Scott Trust.\n",
      "Number of characters: 113\n",
      " — — — — — — — — — — — — — — — — — -\n",
      "The trust was created in 1936 to \"secure the financial and editorial independence of the Guardian in perpetuity and to safeguard the journalistic freedom and liberal values of the Guardian free from commercial or political interference\".[4]\n",
      "Number of characters: 240\n",
      " — — — — — — — — — — — — — — — — — -\n",
      "The trust was converted into a limited company in 2008, with a constitution written so as to maintain for The Guardian the same protections as were built into the structure of the Scott Trust by its creators.\n",
      "Number of characters: 208\n",
      " — — — — — — — — — — — — — — — — — -\n",
      "Profits are reinvested in journalism rather than distributed to owners or shareholders.\n",
      "Number of characters: 87\n",
      " — — — — — — — — — — — — — — — — — -\n"
     ]
    }
   ],
   "source": [
    "sentences = list(doc.sents)\n",
    "for i in range(len(sentences)):\n",
    "    print(sentences[i].text) \n",
    "    print(\"Number of characters:\", len(sentences[i].text))\n",
    "    print(\" — — — — — — — — — — — — — — — — — -\")"
   ]
  },
  {
   "cell_type": "markdown",
   "metadata": {},
   "source": [
    "spaCy allows us also to split the text into tokens. Moreover, for every token we can obtain the part-of-speech tag and dependencies."
   ]
  },
  {
   "cell_type": "code",
   "execution_count": 8,
   "metadata": {},
   "outputs": [
    {
     "name": "stdout",
     "output_type": "stream",
     "text": [
      "The         DET       det       \n",
      "Guardian    PROPN     nsubj     \n",
      "is          VERB      ROOT      \n",
      "a           DET       det       \n",
      "British     ADJ       amod      \n",
      "daily       ADJ       amod      \n",
      "newspaper   NOUN      attr      \n",
      ".           PUNCT     punct     \n",
      "It          PRON      nsubjpass \n",
      "was         VERB      auxpass   \n",
      "founded     VERB      ROOT      \n",
      "in          ADP       prep      \n",
      "1821        NUM       pobj      \n",
      "as          ADP       prep      \n",
      "The         DET       det       \n",
      "Manchester  PROPN     compound  \n",
      "Guardian    PROPN     pobj      \n",
      ",           PUNCT     punct     \n",
      "and         CCONJ     cc        \n",
      "changed     VERB      conj      \n",
      "its         DET       poss      \n",
      "name        NOUN      dobj      \n",
      "in          ADP       prep      \n",
      "1959        NUM       pobj      \n",
      ".           PUNCT     punct     \n",
      "Along       ADP       ROOT      \n",
      "with        ADP       prep      \n",
      "its         DET       poss      \n",
      "sister      NOUN      pobj      \n",
      "papers      VERB      appos     \n",
      "The         DET       det       \n",
      "Observer    PROPN     nsubj     \n",
      "and         CCONJ     cc        \n",
      "The         DET       det       \n",
      "Guardian    PROPN     compound  \n",
      "Weekly      PROPN     conj      \n",
      ",           PUNCT     punct     \n",
      "the         DET       det       \n",
      "Guardian    PROPN     nsubj     \n",
      "is          VERB      ROOT      \n",
      "part        NOUN      attr      \n",
      "of          ADP       prep      \n",
      "the         DET       det       \n",
      "Guardian    PROPN     compound  \n",
      "Media       PROPN     compound  \n",
      "Group       PROPN     pobj      \n",
      ",           PUNCT     punct     \n",
      "owned       VERB      acl       \n",
      "by          ADP       agent     \n",
      "the         DET       det       \n",
      "Scott       PROPN     compound  \n",
      "Trust       PROPN     pobj      \n",
      ".           PUNCT     punct     \n",
      "The         DET       det       \n",
      "trust       NOUN      nsubjpass \n",
      "was         VERB      auxpass   \n",
      "created     VERB      ROOT      \n",
      "in          ADP       prep      \n",
      "1936        NUM       pobj      \n",
      "to          PART      aux       \n",
      "\"           PUNCT     punct     \n",
      "secure      VERB      advcl     \n",
      "the         DET       det       \n",
      "financial   ADJ       amod      \n",
      "and         CCONJ     cc        \n",
      "editorial   ADJ       conj      \n",
      "independenceNOUN      dobj      \n",
      "of          ADP       prep      \n",
      "the         DET       det       \n",
      "Guardian    PROPN     pobj      \n",
      "in          ADP       prep      \n",
      "perpetuity  NOUN      pobj      \n",
      "and         CCONJ     cc        \n",
      "to          PART      aux       \n",
      "safeguard   VERB      conj      \n",
      "the         DET       det       \n",
      "journalisticADJ       amod      \n",
      "freedom     NOUN      dobj      \n",
      "and         CCONJ     cc        \n",
      "liberal     ADJ       amod      \n",
      "values      NOUN      conj      \n",
      "of          ADP       prep      \n",
      "the         DET       det       \n",
      "Guardian    PROPN     pobj      \n",
      "free        ADJ       amod      \n",
      "from        ADP       prep      \n",
      "commercial  ADJ       amod      \n",
      "or          CCONJ     cc        \n",
      "political   ADJ       conj      \n",
      "interference\".[4X         pobj      \n",
      "]           PUNCT     punct     \n",
      "The         DET       det       \n",
      "trust       NOUN      nsubjpass \n",
      "was         VERB      auxpass   \n",
      "converted   VERB      ROOT      \n",
      "into        ADP       prep      \n",
      "a           DET       det       \n",
      "limited     ADJ       amod      \n",
      "company     NOUN      pobj      \n",
      "in          ADP       prep      \n",
      "2008        NUM       pobj      \n",
      ",           PUNCT     punct     \n",
      "with        ADP       prep      \n",
      "a           DET       det       \n",
      "constitutionNOUN      pobj      \n",
      "written     VERB      acl       \n",
      "so          ADP       mark      \n",
      "as          ADP       mark      \n",
      "to          PART      aux       \n",
      "maintain    VERB      advcl     \n",
      "for         ADP       prep      \n",
      "The         DET       det       \n",
      "Guardian    PROPN     pobj      \n",
      "the         DET       det       \n",
      "same        ADJ       amod      \n",
      "protections NOUN      dobj      \n",
      "as          ADP       mark      \n",
      "were        VERB      auxpass   \n",
      "built       VERB      relcl     \n",
      "into        ADP       prep      \n",
      "the         DET       det       \n",
      "structure   NOUN      pobj      \n",
      "of          ADP       prep      \n",
      "the         DET       det       \n",
      "Scott       PROPN     compound  \n",
      "Trust       PROPN     pobj      \n",
      "by          ADP       prep      \n",
      "its         DET       poss      \n",
      "creators    NOUN      pobj      \n",
      ".           PUNCT     punct     \n",
      "Profits     NOUN      nsubjpass \n",
      "are         VERB      auxpass   \n",
      "reinvested  VERB      ROOT      \n",
      "in          ADP       prep      \n",
      "journalism  NOUN      pobj      \n",
      "rather      ADV       advmod    \n",
      "than        ADP       cc        \n",
      "distributed VERB      conj      \n",
      "to          ADP       prep      \n",
      "owners      NOUN      pobj      \n",
      "or          CCONJ     cc        \n",
      "shareholdersNOUN      conj      \n",
      ".           PUNCT     punct     \n"
     ]
    }
   ],
   "source": [
    "for token in doc:\n",
    "    # Get the token text, part-of-speech tag and dependency label\n",
    "    token_text = token.text\n",
    "    token_pos = token.pos_\n",
    "    token_dep = token.dep_\n",
    "    # This is for formatting only\n",
    "    print(\"{:<12}{:<10}{:<10}\".format(token_text, token_pos, token_dep))"
   ]
  },
  {
   "cell_type": "markdown",
   "metadata": {},
   "source": [
    "In particular we can get more information about certain words called entities. "
   ]
  },
  {
   "cell_type": "code",
   "execution_count": 9,
   "metadata": {},
   "outputs": [
    {
     "name": "stdout",
     "output_type": "stream",
     "text": [
      "Guardian ORG\n",
      "British NORP\n",
      "daily DATE\n",
      "1821 DATE\n",
      "The Manchester Guardian ORG\n",
      "1959 DATE\n",
      "The Observer and The Guardian Weekly WORK_OF_ART\n",
      "Guardian ORG\n",
      "the Guardian Media Group ORG\n",
      "the Scott Trust ORG\n",
      "1936 DATE\n",
      "Guardian ORG\n",
      "Guardian ORG\n",
      "2008 DATE\n",
      "Guardian ORG\n",
      "the Scott Trust ORG\n"
     ]
    }
   ],
   "source": [
    "# Iterate over the predicted entities\n",
    "for ent in doc.ents:\n",
    "    # Print the entity text and its label\n",
    "    print(ent.text, ent.label_)"
   ]
  },
  {
   "cell_type": "markdown",
   "metadata": {},
   "source": [
    "We can integrate this information into the text."
   ]
  },
  {
   "cell_type": "code",
   "execution_count": 11,
   "metadata": {},
   "outputs": [
    {
     "data": {
      "text/html": [
       "<div class=\"entities\" style=\"line-height: 2.5; direction: ltr\">The \n",
       "<mark class=\"entity\" style=\"background: #7aecec; padding: 0.45em 0.6em; margin: 0 0.25em; line-height: 1; border-radius: 0.35em; box-decoration-break: clone; -webkit-box-decoration-break: clone\">\n",
       "    Guardian\n",
       "    <span style=\"font-size: 0.8em; font-weight: bold; line-height: 1; border-radius: 0.35em; text-transform: uppercase; vertical-align: middle; margin-left: 0.5rem\">ORG</span>\n",
       "</mark>\n",
       " is a \n",
       "<mark class=\"entity\" style=\"background: #c887fb; padding: 0.45em 0.6em; margin: 0 0.25em; line-height: 1; border-radius: 0.35em; box-decoration-break: clone; -webkit-box-decoration-break: clone\">\n",
       "    British\n",
       "    <span style=\"font-size: 0.8em; font-weight: bold; line-height: 1; border-radius: 0.35em; text-transform: uppercase; vertical-align: middle; margin-left: 0.5rem\">NORP</span>\n",
       "</mark>\n",
       " \n",
       "<mark class=\"entity\" style=\"background: #bfe1d9; padding: 0.45em 0.6em; margin: 0 0.25em; line-height: 1; border-radius: 0.35em; box-decoration-break: clone; -webkit-box-decoration-break: clone\">\n",
       "    daily\n",
       "    <span style=\"font-size: 0.8em; font-weight: bold; line-height: 1; border-radius: 0.35em; text-transform: uppercase; vertical-align: middle; margin-left: 0.5rem\">DATE</span>\n",
       "</mark>\n",
       " newspaper. It was founded in \n",
       "<mark class=\"entity\" style=\"background: #bfe1d9; padding: 0.45em 0.6em; margin: 0 0.25em; line-height: 1; border-radius: 0.35em; box-decoration-break: clone; -webkit-box-decoration-break: clone\">\n",
       "    1821\n",
       "    <span style=\"font-size: 0.8em; font-weight: bold; line-height: 1; border-radius: 0.35em; text-transform: uppercase; vertical-align: middle; margin-left: 0.5rem\">DATE</span>\n",
       "</mark>\n",
       " as \n",
       "<mark class=\"entity\" style=\"background: #7aecec; padding: 0.45em 0.6em; margin: 0 0.25em; line-height: 1; border-radius: 0.35em; box-decoration-break: clone; -webkit-box-decoration-break: clone\">\n",
       "    The Manchester Guardian\n",
       "    <span style=\"font-size: 0.8em; font-weight: bold; line-height: 1; border-radius: 0.35em; text-transform: uppercase; vertical-align: middle; margin-left: 0.5rem\">ORG</span>\n",
       "</mark>\n",
       ", and changed its name in \n",
       "<mark class=\"entity\" style=\"background: #bfe1d9; padding: 0.45em 0.6em; margin: 0 0.25em; line-height: 1; border-radius: 0.35em; box-decoration-break: clone; -webkit-box-decoration-break: clone\">\n",
       "    1959\n",
       "    <span style=\"font-size: 0.8em; font-weight: bold; line-height: 1; border-radius: 0.35em; text-transform: uppercase; vertical-align: middle; margin-left: 0.5rem\">DATE</span>\n",
       "</mark>\n",
       ". Along with its sister papers \n",
       "<mark class=\"entity\" style=\"background: #f0d0ff; padding: 0.45em 0.6em; margin: 0 0.25em; line-height: 1; border-radius: 0.35em; box-decoration-break: clone; -webkit-box-decoration-break: clone\">\n",
       "    The Observer and The Guardian Weekly\n",
       "    <span style=\"font-size: 0.8em; font-weight: bold; line-height: 1; border-radius: 0.35em; text-transform: uppercase; vertical-align: middle; margin-left: 0.5rem\">WORK_OF_ART</span>\n",
       "</mark>\n",
       ", the \n",
       "<mark class=\"entity\" style=\"background: #7aecec; padding: 0.45em 0.6em; margin: 0 0.25em; line-height: 1; border-radius: 0.35em; box-decoration-break: clone; -webkit-box-decoration-break: clone\">\n",
       "    Guardian\n",
       "    <span style=\"font-size: 0.8em; font-weight: bold; line-height: 1; border-radius: 0.35em; text-transform: uppercase; vertical-align: middle; margin-left: 0.5rem\">ORG</span>\n",
       "</mark>\n",
       " is part of \n",
       "<mark class=\"entity\" style=\"background: #7aecec; padding: 0.45em 0.6em; margin: 0 0.25em; line-height: 1; border-radius: 0.35em; box-decoration-break: clone; -webkit-box-decoration-break: clone\">\n",
       "    the Guardian Media Group\n",
       "    <span style=\"font-size: 0.8em; font-weight: bold; line-height: 1; border-radius: 0.35em; text-transform: uppercase; vertical-align: middle; margin-left: 0.5rem\">ORG</span>\n",
       "</mark>\n",
       ", owned by \n",
       "<mark class=\"entity\" style=\"background: #7aecec; padding: 0.45em 0.6em; margin: 0 0.25em; line-height: 1; border-radius: 0.35em; box-decoration-break: clone; -webkit-box-decoration-break: clone\">\n",
       "    the Scott Trust\n",
       "    <span style=\"font-size: 0.8em; font-weight: bold; line-height: 1; border-radius: 0.35em; text-transform: uppercase; vertical-align: middle; margin-left: 0.5rem\">ORG</span>\n",
       "</mark>\n",
       ". The trust was created in \n",
       "<mark class=\"entity\" style=\"background: #bfe1d9; padding: 0.45em 0.6em; margin: 0 0.25em; line-height: 1; border-radius: 0.35em; box-decoration-break: clone; -webkit-box-decoration-break: clone\">\n",
       "    1936\n",
       "    <span style=\"font-size: 0.8em; font-weight: bold; line-height: 1; border-radius: 0.35em; text-transform: uppercase; vertical-align: middle; margin-left: 0.5rem\">DATE</span>\n",
       "</mark>\n",
       " to &quot;secure the financial and editorial independence of the \n",
       "<mark class=\"entity\" style=\"background: #7aecec; padding: 0.45em 0.6em; margin: 0 0.25em; line-height: 1; border-radius: 0.35em; box-decoration-break: clone; -webkit-box-decoration-break: clone\">\n",
       "    Guardian\n",
       "    <span style=\"font-size: 0.8em; font-weight: bold; line-height: 1; border-radius: 0.35em; text-transform: uppercase; vertical-align: middle; margin-left: 0.5rem\">ORG</span>\n",
       "</mark>\n",
       " in perpetuity and to safeguard the journalistic freedom and liberal values of the \n",
       "<mark class=\"entity\" style=\"background: #7aecec; padding: 0.45em 0.6em; margin: 0 0.25em; line-height: 1; border-radius: 0.35em; box-decoration-break: clone; -webkit-box-decoration-break: clone\">\n",
       "    Guardian\n",
       "    <span style=\"font-size: 0.8em; font-weight: bold; line-height: 1; border-radius: 0.35em; text-transform: uppercase; vertical-align: middle; margin-left: 0.5rem\">ORG</span>\n",
       "</mark>\n",
       " free from commercial or political interference&quot;.[4] The trust was converted into a limited company in \n",
       "<mark class=\"entity\" style=\"background: #bfe1d9; padding: 0.45em 0.6em; margin: 0 0.25em; line-height: 1; border-radius: 0.35em; box-decoration-break: clone; -webkit-box-decoration-break: clone\">\n",
       "    2008\n",
       "    <span style=\"font-size: 0.8em; font-weight: bold; line-height: 1; border-radius: 0.35em; text-transform: uppercase; vertical-align: middle; margin-left: 0.5rem\">DATE</span>\n",
       "</mark>\n",
       ", with a constitution written so as to maintain for The \n",
       "<mark class=\"entity\" style=\"background: #7aecec; padding: 0.45em 0.6em; margin: 0 0.25em; line-height: 1; border-radius: 0.35em; box-decoration-break: clone; -webkit-box-decoration-break: clone\">\n",
       "    Guardian\n",
       "    <span style=\"font-size: 0.8em; font-weight: bold; line-height: 1; border-radius: 0.35em; text-transform: uppercase; vertical-align: middle; margin-left: 0.5rem\">ORG</span>\n",
       "</mark>\n",
       " the same protections as were built into the structure of \n",
       "<mark class=\"entity\" style=\"background: #7aecec; padding: 0.45em 0.6em; margin: 0 0.25em; line-height: 1; border-radius: 0.35em; box-decoration-break: clone; -webkit-box-decoration-break: clone\">\n",
       "    the Scott Trust\n",
       "    <span style=\"font-size: 0.8em; font-weight: bold; line-height: 1; border-radius: 0.35em; text-transform: uppercase; vertical-align: middle; margin-left: 0.5rem\">ORG</span>\n",
       "</mark>\n",
       " by its creators. Profits are reinvested in journalism rather than distributed to owners or shareholders.</div>"
      ],
      "text/plain": [
       "<IPython.core.display.HTML object>"
      ]
     },
     "metadata": {},
     "output_type": "display_data"
    }
   ],
   "source": [
    "from spacy import displacy\n",
    "displacy.render(doc, style='ent', jupyter=True)"
   ]
  },
  {
   "cell_type": "markdown",
   "metadata": {},
   "source": [
    "The method Matcher finds the patterns that matches expresions by their part-of-speech tag."
   ]
  },
  {
   "cell_type": "code",
   "execution_count": 17,
   "metadata": {},
   "outputs": [
    {
     "name": "stdout",
     "output_type": "stream",
     "text": [
      "Total matches found: 3\n",
      "Match found: downloaded Fortnite\n",
      "Match found: downloading Minecraft\n",
      "Match found: download Winzip\n"
     ]
    }
   ],
   "source": [
    "from spacy.matcher import Matcher\n",
    "\n",
    "matcher = Matcher(nlp.vocab)\n",
    "\n",
    "doc = nlp(\n",
    "    \"i downloaded Fortnite on my laptop and can't open the game at all. Help? \"\n",
    "    \"so when I was downloading Minecraft, I got the Windows version where it \"\n",
    "    \"is the '.zip' folder and I used the default program to unpack it... do \"\n",
    "    \"I also need to download Winzip?\"\n",
    ")\n",
    "\n",
    "# Write a pattern that matches a form of \"download\" plus proper noun\n",
    "pattern = [{\"LEMMA\": \"download\"}, {\"POS\": \"PROPN\"}]\n",
    "\n",
    "# Add the pattern to the matcher and apply the matcher to the doc\n",
    "matcher.add(\"DOWNLOAD_THINGS_PATTERN\", None, pattern)\n",
    "matches = matcher(doc)\n",
    "print(\"Total matches found:\", len(matches))\n",
    "\n",
    "# Iterate over the matches and print the span text\n",
    "for match_id, start, end in matches:\n",
    "    print(\"Match found:\", doc[start:end].text)"
   ]
  },
  {
   "cell_type": "code",
   "execution_count": 18,
   "metadata": {},
   "outputs": [
    {
     "name": "stdout",
     "output_type": "stream",
     "text": [
      "Total matches found: 4\n",
      "Match found: beautiful design\n",
      "Match found: smart search\n",
      "Match found: automatic labels\n",
      "Match found: optional voice responses\n"
     ]
    }
   ],
   "source": [
    "doc = nlp(\n",
    "    \"Features of the app include a beautiful design, smart search, automatic \"\n",
    "    \"labels and optional voice responses.\"\n",
    ")\n",
    "\n",
    "# Write a pattern for adjective plus one or two nouns\n",
    "pattern = [{\"POS\": \"ADJ\"}, {\"POS\": \"NOUN\"}, {\"POS\": \"NOUN\", \"OP\": \"?\"}]\n",
    "\n",
    "# Add the pattern to the matcher and apply the matcher to the doc\n",
    "matcher.add(\"ADJ_NOUN_PATTERN\", None, pattern)\n",
    "matches = matcher(doc)\n",
    "print(\"Total matches found:\", len(matches))\n",
    "\n",
    "# Iterate over the matches and print the span text\n",
    "for match_id, start, end in matches:\n",
    "    print(\"Match found:\", doc[start:end].text)"
   ]
  },
  {
   "cell_type": "markdown",
   "metadata": {},
   "source": [
    "The way spaCy deals with tokens is using a model similar to Word2Vec, converting the word into a numerical vector. That way we can make computations such as cosine similarity or even addition and substraction of words. "
   ]
  },
  {
   "cell_type": "code",
   "execution_count": 19,
   "metadata": {},
   "outputs": [
    {
     "name": "stdout",
     "output_type": "stream",
     "text": [
      "apple vs banana:  0.5831844210624695\n",
      "car vs banana:  0.16172660887241364\n",
      "car vs bus:  0.48169606924057007\n",
      "tomatos vs banana:  0.38079631328582764\n",
      "tomatos vs cucumber:  0.5478045344352722\n"
     ]
    }
   ],
   "source": [
    "from scipy import spatial\n",
    "cosine_similarity = lambda x, y: 1 - spatial.distance.cosine(x, y)\n",
    "print(\"apple vs banana: \", cosine_similarity(nlp.vocab['apple'].vector, nlp.vocab['banana'].vector))\n",
    "print(\"car vs banana: \", cosine_similarity(nlp.vocab['car'].vector, nlp.vocab['banana'].vector))\n",
    "print(\"car vs bus: \", cosine_similarity(nlp.vocab['car'].vector, nlp.vocab['bus'].vector))\n",
    "print(\"tomatos vs banana: \", cosine_similarity(nlp.vocab['tomatos'].vector, nlp.vocab['banana'].vector))\n",
    "print(\"tomatos vs cucumber: \", cosine_similarity(nlp.vocab['tomatos'].vector, nlp.vocab['cucumber'].vector))"
   ]
  },
  {
   "cell_type": "code",
   "execution_count": 20,
   "metadata": {},
   "outputs": [
    {
     "name": "stdout",
     "output_type": "stream",
     "text": [
      "similarity between our calculated king vector and real king vector: 0.771614134311676\n"
     ]
    }
   ],
   "source": [
    "man = nlp.vocab['man'].vector\n",
    "woman = nlp.vocab['woman'].vector\n",
    "queen = nlp.vocab['queen'].vector\n",
    "king = nlp.vocab['king'].vector\n",
    "calculated_king = man -woman + queen\n",
    "print('similarity between our calculated king vector and real king vector:', cosine_similarity(calculated_king, king))"
   ]
  },
  {
   "cell_type": "markdown",
   "metadata": {},
   "source": [
    "We can find the similarity between words or texts. "
   ]
  },
  {
   "cell_type": "code",
   "execution_count": 21,
   "metadata": {},
   "outputs": [
    {
     "name": "stdout",
     "output_type": "stream",
     "text": [
      "0.8789265574516525\n"
     ]
    }
   ],
   "source": [
    "doc1 = nlp(\"It's a warm summer day\")\n",
    "doc2 = nlp(\"It's sunny outside\")\n",
    "\n",
    "# Get the similarity of doc1 and doc2\n",
    "similarity = doc1.similarity(doc2)\n",
    "print(similarity)"
   ]
  }
 ],
 "metadata": {
  "kernelspec": {
   "display_name": "Python 3",
   "language": "python",
   "name": "python3"
  },
  "language_info": {
   "codemirror_mode": {
    "name": "ipython",
    "version": 3
   },
   "file_extension": ".py",
   "mimetype": "text/x-python",
   "name": "python",
   "nbconvert_exporter": "python",
   "pygments_lexer": "ipython3",
   "version": "3.6.4"
  }
 },
 "nbformat": 4,
 "nbformat_minor": 2
}
