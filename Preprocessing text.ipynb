{
 "cells": [
  {
   "cell_type": "markdown",
   "metadata": {},
   "source": [
    "# Preprocessing text"
   ]
  },
  {
   "cell_type": "markdown",
   "metadata": {},
   "source": [
    "We are going to clean a text as a preprocessing step before using machine learning algorithms. \n",
    "\n",
    "The selected text is \"Pride and Prejudice\" by Jane Austen, extracted from Project Gutenberg in UTF-8 (http://www.gutenberg.org/ebooks/1342)"
   ]
  },
  {
   "cell_type": "markdown",
   "metadata": {},
   "source": [
    "The first step is to load the text as data."
   ]
  },
  {
   "cell_type": "code",
   "execution_count": 1,
   "metadata": {},
   "outputs": [],
   "source": [
    "# load text\n",
    "filename = 'PrideandPrejudice_clean.txt'\n",
    "file = open(filename, 'rt')\n",
    "text = file.read()\n",
    "file.close()"
   ]
  },
  {
   "cell_type": "markdown",
   "metadata": {},
   "source": [
    "### Manual cleaning"
   ]
  },
  {
   "cell_type": "markdown",
   "metadata": {},
   "source": [
    "Now we are going to clean this text manually (later we will use the package NLTK to automatically clean this text.)\n",
    "\n",
    "First we split the text by whitespaces."
   ]
  },
  {
   "cell_type": "code",
   "execution_count": 2,
   "metadata": {},
   "outputs": [
    {
     "name": "stdout",
     "output_type": "stream",
     "text": [
      "['PRIDE', 'AND', 'PREJUDICE', 'By', 'Jane', 'Austen', 'Chapter', '1', 'It', 'is', 'a', 'truth', 'universally', 'acknowledged,', 'that', 'a', 'single', 'man', 'in', 'possession', 'of', 'a', 'good', 'fortune,', 'must', 'be', 'in', 'want', 'of', 'a', 'wife.', 'However', 'little', 'known', 'the', 'feelings', 'or', 'views', 'of', 'such', 'a', 'man', 'may', 'be', 'on', 'his', 'first', 'entering', 'a', 'neighbourhood,', 'this', 'truth', 'is', 'so', 'well', 'fixed', 'in', 'the', 'minds', 'of', 'the', 'surrounding', 'families,', 'that', 'he', 'is', 'considered', 'the', 'rightful', 'property', 'of', 'some', 'one', 'or', 'other', 'of', 'their', 'daughters.', '“My', 'dear', 'Mr.', 'Bennet,”', 'said', 'his', 'lady', 'to', 'him', 'one', 'day,', '“have', 'you', 'heard', 'that', 'Netherfield', 'Park', 'is', 'let', 'at', 'last?”', 'Mr.']\n"
     ]
    }
   ],
   "source": [
    "# split into words by white space\n",
    "words = text.split()\n",
    "print(words[:100])"
   ]
  },
  {
   "cell_type": "markdown",
   "metadata": {},
   "source": [
    "Using split we get a list of words, including the punctuation (i.e., 'wife.') Instead of this approach we could use regex, or we could remove the punctuation marks. We will use the fact that python gives us a list of such marks."
   ]
  },
  {
   "cell_type": "code",
   "execution_count": 3,
   "metadata": {},
   "outputs": [
    {
     "data": {
      "text/plain": [
       "'!\"#$%&\\'()*+,-./:;<=>?@[\\\\]^_`{|}~'"
      ]
     },
     "execution_count": 3,
     "metadata": {},
     "output_type": "execute_result"
    }
   ],
   "source": [
    "import string\n",
    "string.punctuation"
   ]
  },
  {
   "cell_type": "code",
   "execution_count": 4,
   "metadata": {},
   "outputs": [
    {
     "name": "stdout",
     "output_type": "stream",
     "text": [
      "['PRIDE', 'AND', 'PREJUDICE', 'By', 'Jane', 'Austen', 'Chapter', '1', 'It', 'is', 'a', 'truth', 'universally', 'acknowledged', 'that', 'a', 'single', 'man', 'in', 'possession', 'of', 'a', 'good', 'fortune', 'must', 'be', 'in', 'want', 'of', 'a', 'wife', 'However', 'little', 'known', 'the', 'feelings', 'or', 'views', 'of', 'such', 'a', 'man', 'may', 'be', 'on', 'his', 'first', 'entering', 'a', 'neighbourhood', 'this', 'truth', 'is', 'so', 'well', 'fixed', 'in', 'the', 'minds', 'of', 'the', 'surrounding', 'families', 'that', 'he', 'is', 'considered', 'the', 'rightful', 'property', 'of', 'some', 'one', 'or', 'other', 'of', 'their', 'daughters', '“My', 'dear', 'Mr', 'Bennet”', 'said', 'his', 'lady', 'to', 'him', 'one', 'day', '“have', 'you', 'heard', 'that', 'Netherfield', 'Park', 'is', 'let', 'at', 'last”', 'Mr']\n"
     ]
    }
   ],
   "source": [
    "table = str.maketrans('', '', string.punctuation)\n",
    "stripped = [w.translate(table) for w in words]\n",
    "print(stripped[:100])"
   ]
  },
  {
   "cell_type": "markdown",
   "metadata": {},
   "source": [
    "There are some punctuation marks that haven't been erased, such as “."
   ]
  },
  {
   "cell_type": "code",
   "execution_count": 5,
   "metadata": {},
   "outputs": [
    {
     "name": "stdout",
     "output_type": "stream",
     "text": [
      "['PRIDE', 'AND', 'PREJUDICE', 'By', 'Jane', 'Austen', 'Chapter', '1', 'It', 'is', 'a', 'truth', 'universally', 'acknowledged', 'that', 'a', 'single', 'man', 'in', 'possession', 'of', 'a', 'good', 'fortune', 'must', 'be', 'in', 'want', 'of', 'a', 'wife', 'However', 'little', 'known', 'the', 'feelings', 'or', 'views', 'of', 'such', 'a', 'man', 'may', 'be', 'on', 'his', 'first', 'entering', 'a', 'neighbourhood', 'this', 'truth', 'is', 'so', 'well', 'fixed', 'in', 'the', 'minds', 'of', 'the', 'surrounding', 'families', 'that', 'he', 'is', 'considered', 'the', 'rightful', 'property', 'of', 'some', 'one', 'or', 'other', 'of', 'their', 'daughters', 'My', 'dear', 'Mr', 'Bennet', 'said', 'his', 'lady', 'to', 'him', 'one', 'day', 'have', 'you', 'heard', 'that', 'Netherfield', 'Park', 'is', 'let', 'at', 'last', 'Mr']\n"
     ]
    }
   ],
   "source": [
    "table = str.maketrans('', '', '“”')\n",
    "stripped_full = [w.translate(table) for w in stripped]\n",
    "print(stripped_full[:100])"
   ]
  },
  {
   "cell_type": "markdown",
   "metadata": {},
   "source": [
    "Next we will use normalization. There are many normalization approaches, but the most common is the normalization to lowercases."
   ]
  },
  {
   "cell_type": "code",
   "execution_count": 6,
   "metadata": {},
   "outputs": [
    {
     "name": "stdout",
     "output_type": "stream",
     "text": [
      "['pride', 'and', 'prejudice', 'by', 'jane', 'austen', 'chapter', '1', 'it', 'is', 'a', 'truth', 'universally', 'acknowledged', 'that', 'a', 'single', 'man', 'in', 'possession', 'of', 'a', 'good', 'fortune', 'must', 'be', 'in', 'want', 'of', 'a', 'wife', 'however', 'little', 'known', 'the', 'feelings', 'or', 'views', 'of', 'such', 'a', 'man', 'may', 'be', 'on', 'his', 'first', 'entering', 'a', 'neighbourhood', 'this', 'truth', 'is', 'so', 'well', 'fixed', 'in', 'the', 'minds', 'of', 'the', 'surrounding', 'families', 'that', 'he', 'is', 'considered', 'the', 'rightful', 'property', 'of', 'some', 'one', 'or', 'other', 'of', 'their', 'daughters', 'my', 'dear', 'mr', 'bennet', 'said', 'his', 'lady', 'to', 'him', 'one', 'day', 'have', 'you', 'heard', 'that', 'netherfield', 'park', 'is', 'let', 'at', 'last', 'mr']\n"
     ]
    }
   ],
   "source": [
    "# convert to lower case\n",
    "words_normalized = [word.lower() for word in stripped_full]\n",
    "print(words_normalized[:100])"
   ]
  },
  {
   "cell_type": "markdown",
   "metadata": {},
   "source": [
    "### Cleaning using NLTK"
   ]
  },
  {
   "cell_type": "markdown",
   "metadata": {},
   "source": [
    "NLTK allows us to split easily by sentences using sent_tokenize."
   ]
  },
  {
   "cell_type": "code",
   "execution_count": 7,
   "metadata": {},
   "outputs": [
    {
     "name": "stdout",
     "output_type": "stream",
     "text": [
      "['PRIDE AND PREJUDICE\\n\\nBy Jane Austen\\n\\n\\n\\nChapter 1\\n\\n\\nIt is a truth universally acknowledged, that a single man in possession\\nof a good fortune, must be in want of a wife.', 'However little known the feelings or views of such a man may be on his\\nfirst entering a neighbourhood, this truth is so well fixed in the minds\\nof the surrounding families, that he is considered the rightful property\\nof some one or other of their daughters.', '“My dear Mr. Bennet,” said his lady to him one day, “have you heard that\\nNetherfield Park is let at last?”\\n\\nMr. Bennet replied that he had not.', '“But it is,” returned she; “for Mrs. Long has just been here, and she\\ntold me all about it.”\\n\\nMr. Bennet made no answer.', '“Do you not want to know who has taken it?” cried his wife impatiently.', '“_You_ want to tell me, and I have no objection to hearing it.”\\n\\nThis was invitation enough.', '“Why, my dear, you must know, Mrs. Long says that Netherfield is taken\\nby a young man of large fortune from the north of England; that he came\\ndown on Monday in a chaise and four to see the place, and was so much\\ndelighted with it, that he agreed with Mr. Morris immediately; that he\\nis to take possession before Michaelmas, and some of his servants are to\\nbe in the house by the end of next week.”\\n\\n“What is his name?”\\n\\n“Bingley.”\\n\\n“Is he married or single?”\\n\\n“Oh!', 'Single, my dear, to be sure!', 'A single man of large fortune; four or\\nfive thousand a year.', 'What a fine thing for our girls!”\\n\\n“How so?', 'How can it affect them?”\\n\\n“My dear Mr. Bennet,” replied his wife, “how can you be so tiresome!', 'You\\nmust know that I am thinking of his marrying one of them.”\\n\\n“Is that his design in settling here?”\\n\\n“Design!', 'Nonsense, how can you talk so!', 'But it is very likely that he\\n_may_ fall in love with one of them, and therefore you must visit him as\\nsoon as he comes.”\\n\\n“I see no occasion for that.', 'You and the girls may go, or you may send\\nthem by themselves, which perhaps will be still better, for as you are\\nas handsome as any of them, Mr. Bingley may like you the best of the\\nparty.”\\n\\n“My dear, you flatter me.', 'I certainly _have_ had my share of beauty, but\\nI do not pretend to be anything extraordinary now.', 'When a woman has five\\ngrown-up daughters, she ought to give over thinking of her own beauty.”\\n\\n“In such cases, a woman has not often much beauty to think of.”\\n\\n“But, my dear, you must indeed go and see Mr. Bingley when he comes into\\nthe neighbourhood.”\\n\\n“It is more than I engage for, I assure you.”\\n\\n“But consider your daughters.', 'Only think what an establishment it would\\nbe for one of them.', 'Sir William and Lady Lucas are determined to\\ngo, merely on that account, for in general, you know, they visit no\\nnewcomers.', 'Indeed you must go, for it will be impossible for _us_ to\\nvisit him if you do not.”\\n\\n“You are over-scrupulous, surely.', 'I dare say Mr. Bingley will be very\\nglad to see you; and I will send a few lines by you to assure him of my\\nhearty consent to his marrying whichever he chooses of the girls; though\\nI must throw in a good word for my little Lizzy.”\\n\\n“I desire you will do no such thing.', 'Lizzy is not a bit better than the\\nothers; and I am sure she is not half so handsome as Jane, nor half so\\ngood-humoured as Lydia.', 'But you are always giving _her_ the preference.”\\n\\n“They have none of them much to recommend them,” replied he; “they are\\nall silly and ignorant like other girls; but Lizzy has something more of\\nquickness than her sisters.”\\n\\n“Mr.', 'Bennet, how _can_ you abuse your own children in such a way?', 'You\\ntake delight in vexing me.', 'You have no compassion for my poor nerves.”\\n\\n“You mistake me, my dear.', 'I have a high respect for your nerves.', 'They\\nare my old friends.', 'I have heard you mention them with consideration\\nthese last twenty years at least.”\\n\\n“Ah, you do not know what I suffer.”\\n\\n“But I hope you will get over it, and live to see many young men of four\\nthousand a year come into the neighbourhood.”\\n\\n“It will be no use to us, if twenty such should come, since you will not\\nvisit them.”\\n\\n“Depend upon it, my dear, that when there are twenty, I will visit them\\nall.”\\n\\nMr. Bennet was so odd a mixture of quick parts, sarcastic humour,\\nreserve, and caprice, that the experience of three-and-twenty years had\\nbeen insufficient to make his wife understand his character.', '_Her_ mind\\nwas less difficult to develop.', 'She was a woman of mean understanding,\\nlittle information, and uncertain temper.', 'When she was discontented,\\nshe fancied herself nervous.', 'The business of her life was to get her\\ndaughters married; its solace was visiting and news.', 'Chapter 2\\n\\n\\nMr. Bennet was among the earliest of those who waited on Mr. Bingley.', 'He\\nhad always intended to visit him, though to the last always assuring\\nhis wife that he should not go; and till the evening after the visit was\\npaid she had no knowledge of it.', 'It was then disclosed in the following\\nmanner.', 'Observing his second daughter employed in trimming a hat, he\\nsuddenly addressed her with:\\n\\n“I hope Mr. Bingley will like it, Lizzy.”\\n\\n“We are not in a way to know _what_ Mr. Bingley likes,” said her mother\\nresentfully, “since we are not to visit.”\\n\\n“But you forget, mamma,” said Elizabeth, “that we shall meet him at the\\nassemblies, and that Mrs. Long promised to introduce him.”\\n\\n“I do not believe Mrs. Long will do any such thing.', 'She has two nieces\\nof her own.', 'She is a selfish, hypocritical woman, and I have no opinion\\nof her.”\\n\\n“No more have I,” said Mr. Bennet; “and I am glad to find that you do\\nnot depend on her serving you.”\\n\\nMrs. Bennet deigned not to make any reply, but, unable to contain\\nherself, began scolding one of her daughters.', \"“Don't keep coughing so, Kitty, for Heaven's sake!\", 'Have a little\\ncompassion on my nerves.', 'You tear them to pieces.”\\n\\n“Kitty has no discretion in her coughs,” said her father; “she times\\nthem ill.”\\n\\n“I do not cough for my own amusement,” replied Kitty fretfully.', '“When is\\nyour next ball to be, Lizzy?”\\n\\n“To-morrow fortnight.”\\n\\n“Aye, so it is,” cried her mother, “and Mrs. Long does not come back\\ntill the day before; so it will be impossible for her to introduce him,\\nfor she will not know him herself.”\\n\\n“Then, my dear, you may have the advantage of your friend, and introduce\\nMr. Bingley to _her_.”\\n\\n“Impossible, Mr. Bennet, impossible, when I am not acquainted with him\\nmyself; how can you be so teasing?”\\n\\n“I honour your circumspection.', \"A fortnight's acquaintance is certainly\\nvery little.\", 'One cannot know what a man really is by the end of a\\nfortnight.', 'But if _we_ do not venture somebody else will; and after all,\\nMrs. Long and her neices must stand their chance; and, therefore, as\\nshe will think it an act of kindness, if you decline the office, I will\\ntake it on myself.”\\n\\nThe girls stared at their father.', 'Mrs. Bennet said only, “Nonsense,\\nnonsense!”\\n\\n“What can be the meaning of that emphatic exclamation?” cried he.', '“Do\\nyou consider the forms of introduction, and the stress that is laid on\\nthem, as nonsense?', 'I cannot quite agree with you _there_.', 'What say you,\\nMary?', 'For you are a young lady of deep reflection, I know, and read\\ngreat books and make extracts.”\\n\\nMary wished to say something sensible, but knew not how.', '“While Mary is adjusting her ideas,” he continued, “let us return to Mr.\\nBingley.”\\n\\n“I am sick of Mr. Bingley,” cried his wife.', '“I am sorry to hear _that_; but why did not you tell me that before?', 'If\\nI had known as much this morning I certainly would not have called\\non him.', 'It is very unlucky; but as I have actually paid the visit, we\\ncannot escape the acquaintance now.”\\n\\nThe astonishment of the ladies was just what he wished; that of Mrs.\\nBennet perhaps surpassing the rest; though, when the first tumult of joy\\nwas over, she began to declare that it was what she had expected all the\\nwhile.', '“How good it was in you, my dear Mr. Bennet!', 'But I knew I should\\npersuade you at last.', 'I was sure you loved your girls too well to\\nneglect such an acquaintance.', 'Well, how pleased I am!', 'and it is such a\\ngood joke, too, that you should have gone this morning and never said a\\nword about it till now.”\\n\\n“Now, Kitty, you may cough as much as you choose,” said Mr. Bennet; and,\\nas he spoke, he left the room, fatigued with the raptures of his wife.', '“What an excellent father you have, girls!” said she, when the door was\\nshut.', '“I do not know how you will ever make him amends for his kindness;\\nor me, either, for that matter.', 'At our time of life it is not so\\npleasant, I can tell you, to be making new acquaintances every day; but\\nfor your sakes, we would do anything.', \"Lydia, my love, though you _are_\\nthe youngest, I dare say Mr. Bingley will dance with you at the next\\nball.”\\n\\n“Oh!” said Lydia stoutly, “I am not afraid; for though I _am_ the\\nyoungest, I'm the tallest.”\\n\\nThe rest of the evening was spent in conjecturing how soon he would\\nreturn Mr. Bennet's visit, and determining when they should ask him to\\ndinner.\", 'Chapter 3\\n\\n\\nNot all that Mrs. Bennet, however, with the assistance of her five\\ndaughters, could ask on the subject, was sufficient to draw from her\\nhusband any satisfactory description of Mr. Bingley.', 'They attacked him\\nin various ways--with barefaced questions, ingenious suppositions, and\\ndistant surmises; but he eluded the skill of them all, and they were at\\nlast obliged to accept the second-hand intelligence of their neighbour,\\nLady Lucas.', 'Her report was highly favourable.', 'Sir William had been\\ndelighted with him.', 'He was quite young, wonderfully handsome, extremely\\nagreeable, and, to crown the whole, he meant to be at the next assembly\\nwith a large party.', 'Nothing could be more delightful!', \"To be fond of\\ndancing was a certain step towards falling in love; and very lively\\nhopes of Mr. Bingley's heart were entertained.\", \"“If I can but see one of my daughters happily settled at Netherfield,”\\n said Mrs. Bennet to her husband, “and all the others equally well\\nmarried, I shall have nothing to wish for.”\\n\\nIn a few days Mr. Bingley returned Mr. Bennet's visit, and sat about\\nten minutes with him in his library.\", 'He had entertained hopes of being\\nadmitted to a sight of the young ladies, of whose beauty he had\\nheard much; but he saw only the father.', 'The ladies were somewhat more\\nfortunate, for they had the advantage of ascertaining from an upper\\nwindow that he wore a blue coat, and rode a black horse.', 'An invitation to dinner was soon afterwards dispatched; and already\\nhad Mrs. Bennet planned the courses that were to do credit to her\\nhousekeeping, when an answer arrived which deferred it all.', 'Mr. Bingley\\nwas obliged to be in town the following day, and, consequently, unable\\nto accept the honour of their invitation, etc.', 'Mrs. Bennet was quite\\ndisconcerted.', 'She could not imagine what business he could have in town\\nso soon after his arrival in Hertfordshire; and she began to fear that\\nhe might be always flying about from one place to another, and never\\nsettled at Netherfield as he ought to be.', 'Lady Lucas quieted her fears\\na little by starting the idea of his being gone to London only to get\\na large party for the ball; and a report soon followed that Mr. Bingley\\nwas to bring twelve ladies and seven gentlemen with him to the assembly.', 'The girls grieved over such a number of ladies, but were comforted the\\nday before the ball by hearing, that instead of twelve he brought only\\nsix with him from London--his five sisters and a cousin.', 'And when\\nthe party entered the assembly room it consisted of only five\\naltogether--Mr. Bingley, his two sisters, the husband of the eldest, and\\nanother young man.', 'Mr. Bingley was good-looking and gentlemanlike; he had a pleasant\\ncountenance, and easy, unaffected manners.', 'His sisters were fine women,\\nwith an air of decided fashion.', 'His brother-in-law, Mr. Hurst, merely\\nlooked the gentleman; but his friend Mr. Darcy soon drew the attention\\nof the room by his fine, tall person, handsome features, noble mien, and\\nthe report which was in general circulation within five minutes\\nafter his entrance, of his having ten thousand a year.', 'The gentlemen\\npronounced him to be a fine figure of a man, the ladies declared he\\nwas much handsomer than Mr. Bingley, and he was looked at with great\\nadmiration for about half the evening, till his manners gave a disgust\\nwhich turned the tide of his popularity; for he was discovered to be\\nproud; to be above his company, and above being pleased; and not all\\nhis large estate in Derbyshire could then save him from having a most\\nforbidding, disagreeable countenance, and being unworthy to be compared\\nwith his friend.', 'Mr. Bingley had soon made himself acquainted with all the principal\\npeople in the room; he was lively and unreserved, danced every dance,\\nwas angry that the ball closed so early, and talked of giving\\none himself at Netherfield.', 'Such amiable qualities must speak for\\nthemselves.', 'What a contrast between him and his friend!', 'Mr. Darcy danced\\nonly once with Mrs. Hurst and once with Miss Bingley, declined being\\nintroduced to any other lady, and spent the rest of the evening in\\nwalking about the room, speaking occasionally to one of his own party.', 'His character was decided.', 'He was the proudest, most disagreeable man\\nin the world, and everybody hoped that he would never come there again.', 'Amongst the most violent against him was Mrs. Bennet, whose dislike of\\nhis general behaviour was sharpened into particular resentment by his\\nhaving slighted one of her daughters.', 'Elizabeth Bennet had been obliged, by the scarcity of gentlemen, to sit\\ndown for two dances; and during part of that time, Mr. Darcy had been\\nstanding near enough for her to hear a conversation between him and Mr.\\nBingley, who came from the dance for a few minutes, to press his friend\\nto join it.', '“Come, Darcy,” said he, “I must have you dance.', 'I hate to see you\\nstanding about by yourself in this stupid manner.', 'You had much better\\ndance.”\\n\\n“I certainly shall not.', 'You know how I detest it, unless I am\\nparticularly acquainted with my partner.', 'At such an assembly as this\\nit would be insupportable.', 'Your sisters are engaged, and there is not\\nanother woman in the room whom it would not be a punishment to me to\\nstand up with.”\\n\\n“I would not be so fastidious as you are,” cried Mr. Bingley, “for a\\nkingdom!', 'Upon my honour, I never met with so many pleasant girls in\\nmy life as I have this evening; and there are several of them you see\\nuncommonly pretty.”\\n\\n“_You_ are dancing with the only handsome girl in the room,” said Mr.\\nDarcy, looking at the eldest Miss Bennet.']\n"
     ]
    }
   ],
   "source": [
    "# split into sentences\n",
    "from nltk import sent_tokenize\n",
    "sentences = sent_tokenize(text)\n",
    "print(sentences[:100])"
   ]
  },
  {
   "cell_type": "markdown",
   "metadata": {},
   "source": [
    "To split by words we use word_tokenize"
   ]
  },
  {
   "cell_type": "code",
   "execution_count": 8,
   "metadata": {},
   "outputs": [
    {
     "name": "stdout",
     "output_type": "stream",
     "text": [
      "['PRIDE', 'AND', 'PREJUDICE', 'By', 'Jane', 'Austen', 'Chapter', '1', 'It', 'is', 'a', 'truth', 'universally', 'acknowledged', ',', 'that', 'a', 'single', 'man', 'in', 'possession', 'of', 'a', 'good', 'fortune', ',', 'must', 'be', 'in', 'want', 'of', 'a', 'wife', '.', 'However', 'little', 'known', 'the', 'feelings', 'or', 'views', 'of', 'such', 'a', 'man', 'may', 'be', 'on', 'his', 'first', 'entering', 'a', 'neighbourhood', ',', 'this', 'truth', 'is', 'so', 'well', 'fixed', 'in', 'the', 'minds', 'of', 'the', 'surrounding', 'families', ',', 'that', 'he', 'is', 'considered', 'the', 'rightful', 'property', 'of', 'some', 'one', 'or', 'other', 'of', 'their', 'daughters', '.', '“', 'My', 'dear', 'Mr.', 'Bennet', ',', '”', 'said', 'his', 'lady', 'to', 'him', 'one', 'day', ',', '“']\n"
     ]
    }
   ],
   "source": [
    "# split into words\n",
    "from nltk.tokenize import word_tokenize\n",
    "tokens = word_tokenize(text)\n",
    "print(tokens[:100])"
   ]
  },
  {
   "cell_type": "markdown",
   "metadata": {},
   "source": [
    "Here we can see that word_tokenize splits words and punctuation marks."
   ]
  },
  {
   "cell_type": "markdown",
   "metadata": {},
   "source": [
    "To remove the punctuation marks we can use the python function isalpha for keeping only alphabetical elements, or isalnum for alphanumerical (for instance, the number of chapter)."
   ]
  },
  {
   "cell_type": "code",
   "execution_count": 9,
   "metadata": {},
   "outputs": [
    {
     "name": "stdout",
     "output_type": "stream",
     "text": [
      "['PRIDE', 'AND', 'PREJUDICE', 'By', 'Jane', 'Austen', 'Chapter', '1', 'It', 'is', 'a', 'truth', 'universally', 'acknowledged', 'that', 'a', 'single', 'man', 'in', 'possession', 'of', 'a', 'good', 'fortune', 'must', 'be', 'in', 'want', 'of', 'a', 'wife', 'However', 'little', 'known', 'the', 'feelings', 'or', 'views', 'of', 'such', 'a', 'man', 'may', 'be', 'on', 'his', 'first', 'entering', 'a', 'neighbourhood', 'this', 'truth', 'is', 'so', 'well', 'fixed', 'in', 'the', 'minds', 'of', 'the', 'surrounding', 'families', 'that', 'he', 'is', 'considered', 'the', 'rightful', 'property', 'of', 'some', 'one', 'or', 'other', 'of', 'their', 'daughters', 'My', 'dear', 'Bennet', 'said', 'his', 'lady', 'to', 'him', 'one', 'day', 'have', 'you', 'heard', 'that', 'Netherfield', 'Park', 'is', 'let', 'at', 'last', 'Bennet', 'replied']\n"
     ]
    }
   ],
   "source": [
    "# remove all tokens that are not alphabetic\n",
    "words = [word for word in tokens if word.isalnum()]\n",
    "print(words[:100])"
   ]
  },
  {
   "cell_type": "markdown",
   "metadata": {},
   "source": [
    "As we can see, this way we have removed every punctuation mark, not only the ones in string.punctuation."
   ]
  },
  {
   "cell_type": "markdown",
   "metadata": {},
   "source": [
    "Next we normalize to lowercase, as before."
   ]
  },
  {
   "cell_type": "code",
   "execution_count": 10,
   "metadata": {},
   "outputs": [
    {
     "name": "stdout",
     "output_type": "stream",
     "text": [
      "['pride', 'and', 'prejudice', 'by', 'jane', 'austen', 'chapter', '1', 'it', 'is', 'a', 'truth', 'universally', 'acknowledged', 'that', 'a', 'single', 'man', 'in', 'possession', 'of', 'a', 'good', 'fortune', 'must', 'be', 'in', 'want', 'of', 'a', 'wife', 'however', 'little', 'known', 'the', 'feelings', 'or', 'views', 'of', 'such', 'a', 'man', 'may', 'be', 'on', 'his', 'first', 'entering', 'a', 'neighbourhood', 'this', 'truth', 'is', 'so', 'well', 'fixed', 'in', 'the', 'minds', 'of', 'the', 'surrounding', 'families', 'that', 'he', 'is', 'considered', 'the', 'rightful', 'property', 'of', 'some', 'one', 'or', 'other', 'of', 'their', 'daughters', 'my', 'dear', 'bennet', 'said', 'his', 'lady', 'to', 'him', 'one', 'day', 'have', 'you', 'heard', 'that', 'netherfield', 'park', 'is', 'let', 'at', 'last', 'bennet', 'replied']\n"
     ]
    }
   ],
   "source": [
    "words = [w.lower() for w in words]\n",
    "print(words[:100])"
   ]
  },
  {
   "cell_type": "markdown",
   "metadata": {},
   "source": [
    "One of the most useful functions in the NLTK package is stopwords. The stopwords are the words in a language that do not contribute to the meaning of a sentence, such as \"the\", \"a\", \"and\" in English. We can see the list of stopwords in English as follows:"
   ]
  },
  {
   "cell_type": "code",
   "execution_count": 11,
   "metadata": {},
   "outputs": [
    {
     "name": "stdout",
     "output_type": "stream",
     "text": [
      "['i', 'me', 'my', 'myself', 'we', 'our', 'ours', 'ourselves', 'you', \"you're\", \"you've\", \"you'll\", \"you'd\", 'your', 'yours', 'yourself', 'yourselves', 'he', 'him', 'his', 'himself', 'she', \"she's\", 'her', 'hers', 'herself', 'it', \"it's\", 'its', 'itself', 'they', 'them', 'their', 'theirs', 'themselves', 'what', 'which', 'who', 'whom', 'this', 'that', \"that'll\", 'these', 'those', 'am', 'is', 'are', 'was', 'were', 'be', 'been', 'being', 'have', 'has', 'had', 'having', 'do', 'does', 'did', 'doing', 'a', 'an', 'the', 'and', 'but', 'if', 'or', 'because', 'as', 'until', 'while', 'of', 'at', 'by', 'for', 'with', 'about', 'against', 'between', 'into', 'through', 'during', 'before', 'after', 'above', 'below', 'to', 'from', 'up', 'down', 'in', 'out', 'on', 'off', 'over', 'under', 'again', 'further', 'then', 'once']\n"
     ]
    }
   ],
   "source": [
    "from nltk.corpus import stopwords\n",
    "stop_words = stopwords.words('english')\n",
    "print(stop_words[:100])"
   ]
  },
  {
   "cell_type": "markdown",
   "metadata": {},
   "source": [
    "And the list of languages:"
   ]
  },
  {
   "cell_type": "code",
   "execution_count": 12,
   "metadata": {},
   "outputs": [
    {
     "data": {
      "text/plain": [
       "['arabic',\n",
       " 'azerbaijani',\n",
       " 'danish',\n",
       " 'dutch',\n",
       " 'english',\n",
       " 'finnish',\n",
       " 'french',\n",
       " 'german',\n",
       " 'greek',\n",
       " 'hungarian',\n",
       " 'indonesian',\n",
       " 'italian',\n",
       " 'kazakh',\n",
       " 'nepali',\n",
       " 'norwegian',\n",
       " 'portuguese',\n",
       " 'romanian',\n",
       " 'russian',\n",
       " 'slovene',\n",
       " 'spanish',\n",
       " 'swedish',\n",
       " 'tajik',\n",
       " 'turkish']"
      ]
     },
     "execution_count": 12,
     "metadata": {},
     "output_type": "execute_result"
    }
   ],
   "source": [
    "stopwords.fileids()"
   ]
  },
  {
   "cell_type": "markdown",
   "metadata": {},
   "source": [
    "For example:"
   ]
  },
  {
   "cell_type": "code",
   "execution_count": 13,
   "metadata": {},
   "outputs": [
    {
     "name": "stdout",
     "output_type": "stream",
     "text": [
      "['de', 'la', 'que', 'el', 'en', 'y', 'a', 'los', 'del', 'se', 'las', 'por', 'un', 'para', 'con', 'no', 'una', 'su', 'al', 'lo', 'como', 'más', 'pero', 'sus', 'le', 'ya', 'o', 'este', 'sí', 'porque', 'esta', 'entre', 'cuando', 'muy', 'sin', 'sobre', 'también', 'me', 'hasta', 'hay', 'donde', 'quien', 'desde', 'todo', 'nos', 'durante', 'todos', 'uno', 'les', 'ni', 'contra', 'otros', 'ese', 'eso', 'ante', 'ellos', 'e', 'esto', 'mí', 'antes', 'algunos', 'qué', 'unos', 'yo', 'otro', 'otras', 'otra', 'él', 'tanto', 'esa', 'estos', 'mucho', 'quienes', 'nada', 'muchos', 'cual', 'poco', 'ella', 'estar', 'estas', 'algunas', 'algo', 'nosotros', 'mi', 'mis', 'tú', 'te', 'ti', 'tu', 'tus', 'ellas', 'nosotras', 'vosotros', 'vosotras', 'os', 'mío', 'mía', 'míos', 'mías', 'tuyo']\n"
     ]
    }
   ],
   "source": [
    "palabras = stopwords.words('spanish')\n",
    "print(palabras[:100])"
   ]
  },
  {
   "cell_type": "code",
   "execution_count": 14,
   "metadata": {},
   "outputs": [
    {
     "data": {
      "text/plain": [
       "179"
      ]
     },
     "execution_count": 14,
     "metadata": {},
     "output_type": "execute_result"
    }
   ],
   "source": [
    "len(stop_words)"
   ]
  },
  {
   "cell_type": "code",
   "execution_count": 15,
   "metadata": {},
   "outputs": [
    {
     "data": {
      "text/plain": [
       "313"
      ]
     },
     "execution_count": 15,
     "metadata": {},
     "output_type": "execute_result"
    }
   ],
   "source": [
    "len(palabras)"
   ]
  },
  {
   "cell_type": "markdown",
   "metadata": {},
   "source": [
    "Using these lists of stopwords we can easily remove words that do not give extra information."
   ]
  },
  {
   "cell_type": "code",
   "execution_count": 16,
   "metadata": {},
   "outputs": [
    {
     "name": "stdout",
     "output_type": "stream",
     "text": [
      "['pride', 'prejudice', 'jane', 'austen', 'chapter', '1', 'truth', 'universally', 'acknowledged', 'single', 'man', 'possession', 'good', 'fortune', 'must', 'want', 'wife', 'however', 'little', 'known', 'feelings', 'views', 'man', 'may', 'first', 'entering', 'neighbourhood', 'truth', 'well', 'fixed', 'minds', 'surrounding', 'families', 'considered', 'rightful', 'property', 'one', 'daughters', 'dear', 'bennet', 'said', 'lady', 'one', 'day', 'heard', 'netherfield', 'park', 'let', 'last', 'bennet', 'replied', 'returned', 'long', 'told', 'bennet', 'made', 'answer', 'want', 'know', 'taken', 'cried', 'wife', 'impatiently', 'want', 'tell', 'objection', 'hearing', 'invitation', 'enough', 'dear', 'must', 'know', 'long', 'says', 'netherfield', 'taken', 'young', 'man', 'large', 'fortune', 'north', 'england', 'came', 'monday', 'chaise', 'four', 'see', 'place', 'much', 'delighted', 'agreed', 'morris', 'immediately', 'take', 'possession', 'michaelmas', 'servants', 'house', 'end', 'next']\n"
     ]
    }
   ],
   "source": [
    "words = [w for w in words if not w in stop_words]\n",
    "print(words[:100])"
   ]
  },
  {
   "cell_type": "markdown",
   "metadata": {},
   "source": [
    "Finally, we can use normalization techniques to reduce every word to its root. The first one is called stemming."
   ]
  },
  {
   "cell_type": "code",
   "execution_count": 17,
   "metadata": {},
   "outputs": [
    {
     "name": "stdout",
     "output_type": "stream",
     "text": [
      "['pride', 'prejudic', 'jane', 'austen', 'chapter', '1', 'truth', 'univers', 'acknowledg', 'singl', 'man', 'possess', 'good', 'fortun', 'must', 'want', 'wife', 'howev', 'littl', 'known', 'feel', 'view', 'man', 'may', 'first', 'enter', 'neighbourhood', 'truth', 'well', 'fix', 'mind', 'surround', 'famili', 'consid', 'right', 'properti', 'one', 'daughter', 'dear', 'bennet', 'said', 'ladi', 'one', 'day', 'heard', 'netherfield', 'park', 'let', 'last', 'bennet', 'repli', 'return', 'long', 'told', 'bennet', 'made', 'answer', 'want', 'know', 'taken', 'cri', 'wife', 'impati', 'want', 'tell', 'object', 'hear', 'invit', 'enough', 'dear', 'must', 'know', 'long', 'say', 'netherfield', 'taken', 'young', 'man', 'larg', 'fortun', 'north', 'england', 'came', 'monday', 'chais', 'four', 'see', 'place', 'much', 'delight', 'agre', 'morri', 'immedi', 'take', 'possess', 'michaelma', 'servant', 'hous', 'end', 'next']\n"
     ]
    }
   ],
   "source": [
    "# stemming of words\n",
    "from nltk.stem.porter import PorterStemmer\n",
    "porter = PorterStemmer()\n",
    "stemmed = [porter.stem(word) for word in words]\n",
    "print(stemmed[:100])"
   ]
  },
  {
   "cell_type": "markdown",
   "metadata": {},
   "source": [
    "Another technique is called lemmatization."
   ]
  },
  {
   "cell_type": "code",
   "execution_count": 18,
   "metadata": {
    "scrolled": true
   },
   "outputs": [
    {
     "name": "stdout",
     "output_type": "stream",
     "text": [
      "['pride', 'prejudice', 'jane', 'austen', 'chapter', '1', 'truth', 'universally', 'acknowledged', 'single', 'man', 'possession', 'good', 'fortune', 'must', 'want', 'wife', 'however', 'little', 'known', 'feeling', 'view', 'man', 'may', 'first', 'entering', 'neighbourhood', 'truth', 'well', 'fixed', 'mind', 'surrounding', 'family', 'considered', 'rightful', 'property', 'one', 'daughter', 'dear', 'bennet', 'said', 'lady', 'one', 'day', 'heard', 'netherfield', 'park', 'let', 'last', 'bennet', 'replied', 'returned', 'long', 'told', 'bennet', 'made', 'answer', 'want', 'know', 'taken', 'cried', 'wife', 'impatiently', 'want', 'tell', 'objection', 'hearing', 'invitation', 'enough', 'dear', 'must', 'know', 'long', 'say', 'netherfield', 'taken', 'young', 'man', 'large', 'fortune', 'north', 'england', 'came', 'monday', 'chaise', 'four', 'see', 'place', 'much', 'delighted', 'agreed', 'morris', 'immediately', 'take', 'possession', 'michaelmas', 'servant', 'house', 'end', 'next']\n"
     ]
    }
   ],
   "source": [
    "# lemmatization of words\n",
    "from nltk.stem import WordNetLemmatizer\n",
    "lemmatizer = WordNetLemmatizer()\n",
    "lemmatized = [lemmatizer.lemmatize(word) for word in words]\n",
    "print(lemmatized[:100])"
   ]
  }
 ],
 "metadata": {
  "kernelspec": {
   "display_name": "Python 3",
   "language": "python",
   "name": "python3"
  },
  "language_info": {
   "codemirror_mode": {
    "name": "ipython",
    "version": 3
   },
   "file_extension": ".py",
   "mimetype": "text/x-python",
   "name": "python",
   "nbconvert_exporter": "python",
   "pygments_lexer": "ipython3",
   "version": "3.6.4"
  }
 },
 "nbformat": 4,
 "nbformat_minor": 2
}
